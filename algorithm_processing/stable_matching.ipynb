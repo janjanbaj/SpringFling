{
 "cells": [
  {
   "cell_type": "code",
   "execution_count": 1,
   "metadata": {},
   "outputs": [],
   "source": [
    "import numpy as np\n",
    "import pandas as pd\n",
    "import bisect"
   ]
  },
  {
   "cell_type": "code",
   "execution_count": 2,
   "metadata": {},
   "outputs": [],
   "source": [
    "# Setup to create random data. The keys are people and the value is going to be a list of answers that the person gave.\n",
    "NUMBER_OF_PEOPLE = 10\n",
    "\n",
    "# Make a binomial distribution of survey answers. Do not really know if that would make a difference because i think the answer per question\n",
    "# follows a binomial distribution and not the row of answers for one person.\n",
    "\n",
    "males = {\"\".join([chr(np.random.randint(97,122)) for _ in range(10)]): np.random.binomial(n=5,p=0.5,size=20) for _ in range(NUMBER_OF_PEOPLE)}\n",
    "females = {\"\".join([chr(np.random.randint(97,122)) for _ in range(10)]): np.random.binomial(n=5,p=0.5,size=20) for _ in range(NUMBER_OF_PEOPLE)}"
   ]
  },
  {
   "cell_type": "code",
   "execution_count": 15,
   "metadata": {},
   "outputs": [],
   "source": [
    "male_names = list(males.keys())\n",
    "female_names = list(females.keys())\n",
    "# dictionary for stable matching where key is person and value is the ascending order of people similar to the person in the key. \n",
    "# since eucledian distance is our measure of similarlity, a lower number is good ie. most similar\n",
    "\n",
    "male_sorted = {i: [] for i in male_names}\n",
    "female_sorted = {i: [] for i in female_names}\n",
    "#people_dictinary = {i : {} for i in names}\n",
    "\n",
    "\n",
    "for male in male_names:\n",
    "    for female in female_names:\n",
    "        # taking the eucledian distance\n",
    "        \n",
    "        dist = np.linalg.norm(males[male] - females[female])\n",
    "\n",
    "        # inserts in a sorted manner.\n",
    "        bisect.insort(female_sorted[female], {\"name\": male, \"value\": dist}, key=lambda x:x[\"value\"])\n",
    "        bisect.insort(male_sorted[male], {\"name\": female, \"value\": dist}, key=lambda x:x[\"value\"])\n",
    "\n",
    "male_sorted = {i: [j[\"name\"] for j in male_sorted[i]] for i in male_sorted.keys()}\n",
    "female_sorted = {i: [j[\"name\"] for j in female_sorted[i]] for i in female_sorted.keys()}\n",
    "\n",
    "# only really computes the upper right triangle because i,j is the same as j,i in terms of distance. dont even need this actually"
   ]
  },
  {
   "cell_type": "code",
   "execution_count": null,
   "metadata": {},
   "outputs": [],
   "source": []
  },
  {
   "cell_type": "code",
   "execution_count": null,
   "metadata": {},
   "outputs": [],
   "source": [
    "# Gale-Shapley Algorithm is a Solution to the Stable Matching Problem and the following is an implementation.\n",
    "# The algorithm assumes that there are two disjoint sets of Male and Female. [Might have to update the design such that it works with Homogeneous Pool]\n",
    "# Reference:  https://www.youtube.com/watch?v=0m_YW1zVs-Q\n",
    "\n",
    "unmarried = set([i for i in male_names] + [i for i in female_names])\n",
    "directory = {}\n",
    "\n",
    "while len(unmarried) != 0:\n",
    "    \n"
   ]
  },
  {
   "cell_type": "code",
   "execution_count": null,
   "metadata": {},
   "outputs": [],
   "source": []
  }
 ],
 "metadata": {
  "kernelspec": {
   "display_name": "Python 3",
   "language": "python",
   "name": "python3"
  },
  "language_info": {
   "codemirror_mode": {
    "name": "ipython",
    "version": 3
   },
   "file_extension": ".py",
   "mimetype": "text/x-python",
   "name": "python",
   "nbconvert_exporter": "python",
   "pygments_lexer": "ipython3",
   "version": "3.11.3"
  }
 },
 "nbformat": 4,
 "nbformat_minor": 2
}
