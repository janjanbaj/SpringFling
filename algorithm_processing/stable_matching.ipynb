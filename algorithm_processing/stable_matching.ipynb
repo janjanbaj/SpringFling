{
 "cells": [
  {
   "cell_type": "code",
   "execution_count": 1,
   "metadata": {},
   "outputs": [],
   "source": [
    "import numpy as np\n",
    "import pandas as pd"
   ]
  },
  {
   "cell_type": "code",
   "execution_count": 17,
   "metadata": {},
   "outputs": [],
   "source": [
    "import bisect"
   ]
  },
  {
   "cell_type": "code",
   "execution_count": 14,
   "metadata": {},
   "outputs": [
    {
     "data": {
      "text/plain": [
       "{'cschcaklvq': array([0, 3, 2, 1, 4, 1, 3, 3, 1, 3, 2, 5, 0, 4, 3, 2, 1, 2, 1, 1]),\n",
       " 'imttaqvxdo': array([5, 3, 2, 5, 1, 2, 4, 2, 2, 2, 3, 2, 3, 3, 2, 4, 3, 2, 3, 1]),\n",
       " 'vyvpiygeru': array([2, 3, 1, 1, 4, 3, 2, 3, 3, 1, 4, 2, 1, 1, 3, 4, 4, 3, 2, 4]),\n",
       " 'ireafrnrsl': array([2, 2, 1, 1, 2, 3, 1, 3, 2, 0, 4, 2, 3, 3, 3, 2, 5, 4, 2, 0]),\n",
       " 'orudxggryu': array([1, 3, 2, 4, 4, 1, 2, 1, 1, 2, 2, 4, 3, 3, 1, 4, 3, 2, 4, 2])}"
      ]
     },
     "execution_count": 14,
     "metadata": {},
     "output_type": "execute_result"
    }
   ],
   "source": [
    "# Setup to create random data. The keys are people and the value is going to be a list of answers that the person gave.\n",
    "NUMBER_OF_PEOPLE = 5\n",
    "# Make a binomial distribution of survey answers. Do not really know if that would make a difference because i think the answer per question\n",
    "# follows a binomial distribution and not the row of answers for one person.\n",
    "people = {\"\".join([chr(np.random.randint(97,122)) for _ in range(10)]): np.random.binomial(n=5,p=0.5,size=20) for _ in range(NUMBER_OF_PEOPLE)}\n",
    "people"
   ]
  },
  {
   "cell_type": "code",
   "execution_count": null,
   "metadata": {},
   "outputs": [
    {
     "name": "stdout",
     "output_type": "stream",
     "text": [
      "{'cschcaklvq': [], 'imttaqvxdo': [], 'vyvpiygeru': [], 'ireafrnrsl': [], 'orudxggryu': []}\n"
     ]
    },
    {
     "data": {
      "text/plain": [
       "array([[0.        , 9.38083152, 8.06225775, 8.54400375, 7.        ],\n",
       "       [0.        , 0.        , 8.06225775, 7.68114575, 6.40312424],\n",
       "       [0.        , 0.        , 0.        , 6.164414  , 7.34846923],\n",
       "       [0.        , 0.        , 0.        , 0.        , 7.87400787],\n",
       "       [0.        , 0.        , 0.        , 0.        , 0.        ]])"
      ]
     },
     "execution_count": 21,
     "metadata": {},
     "output_type": "execute_result"
    }
   ],
   "source": [
    "similarity_matrix = np.zeros((NUMBER_OF_PEOPLE, NUMBER_OF_PEOPLE))\n",
    "names = list(people.keys())\n",
    "# dictionary for stable matching where key is person and value is the ascending order of people similar to the person in the key. \n",
    "# since eucledian distance is our measure of similarlity, a lower number is good ie. most similar\n",
    "people_sorted = {i: [] for i in names}\n",
    "print(people_sorted)\n",
    "for i in range(len(names)- 1):\n",
    "    person1 = people[names[i]]\n",
    "    for j in range(i+1, len(names)):\n",
    "        person2 = people[names[j]]\n",
    "        # taking the eucledian distance\n",
    "        similarity_matrix[i][j] = np.linalg.norm(person1 - person2)\n",
    "        # inserts in a sorted manner.\n",
    "        bisect.insort(people_sorted[names[i]], {\"name\": names[j], \"value\": similarity_matrix[i][j]}, key=lambda x:x[\"value\"])\n",
    "        bisect.insort(people_sorted[names[j]], {\"name\": names[i], \"value\": similarity_matrix[i][j]}, key=lambda x:x[\"value\"])\n",
    "\n",
    "# only really computes the upper right triangle because i,j is the same as j,i in terms of distance. dont even need this actually\n",
    "similarity_matrix"
   ]
  },
  {
   "cell_type": "code",
   "execution_count": 23,
   "metadata": {},
   "outputs": [
    {
     "data": {
      "text/plain": [
       "{'cschcaklvq': [{'name': 'orudxggryu', 'value': 7.0},\n",
       "  {'name': 'vyvpiygeru', 'value': 8.06225774829855},\n",
       "  {'name': 'ireafrnrsl', 'value': 8.54400374531753},\n",
       "  {'name': 'imttaqvxdo', 'value': 9.38083151964686}],\n",
       " 'imttaqvxdo': [{'name': 'orudxggryu', 'value': 6.4031242374328485},\n",
       "  {'name': 'ireafrnrsl', 'value': 7.681145747868608},\n",
       "  {'name': 'vyvpiygeru', 'value': 8.06225774829855},\n",
       "  {'name': 'cschcaklvq', 'value': 9.38083151964686}],\n",
       " 'vyvpiygeru': [{'name': 'ireafrnrsl', 'value': 6.164414002968976},\n",
       "  {'name': 'orudxggryu', 'value': 7.3484692283495345},\n",
       "  {'name': 'cschcaklvq', 'value': 8.06225774829855},\n",
       "  {'name': 'imttaqvxdo', 'value': 8.06225774829855}],\n",
       " 'ireafrnrsl': [{'name': 'vyvpiygeru', 'value': 6.164414002968976},\n",
       "  {'name': 'imttaqvxdo', 'value': 7.681145747868608},\n",
       "  {'name': 'orudxggryu', 'value': 7.874007874011811},\n",
       "  {'name': 'cschcaklvq', 'value': 8.54400374531753}],\n",
       " 'orudxggryu': [{'name': 'imttaqvxdo', 'value': 6.4031242374328485},\n",
       "  {'name': 'cschcaklvq', 'value': 7.0},\n",
       "  {'name': 'vyvpiygeru', 'value': 7.3484692283495345},\n",
       "  {'name': 'ireafrnrsl', 'value': 7.874007874011811}]}"
      ]
     },
     "execution_count": 23,
     "metadata": {},
     "output_type": "execute_result"
    }
   ],
   "source": [
    "people_sorted"
   ]
  },
  {
   "cell_type": "code",
   "execution_count": null,
   "metadata": {},
   "outputs": [],
   "source": [
    "# Now we can implement Stable Mathcing."
   ]
  }
 ],
 "metadata": {
  "kernelspec": {
   "display_name": "Python 3",
   "language": "python",
   "name": "python3"
  },
  "language_info": {
   "codemirror_mode": {
    "name": "ipython",
    "version": 3
   },
   "file_extension": ".py",
   "mimetype": "text/x-python",
   "name": "python",
   "nbconvert_exporter": "python",
   "pygments_lexer": "ipython3",
   "version": "3.11.3"
  }
 },
 "nbformat": 4,
 "nbformat_minor": 2
}
