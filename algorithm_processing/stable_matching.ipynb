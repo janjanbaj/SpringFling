{
 "cells": [
  {
   "cell_type": "code",
   "execution_count": 1,
   "metadata": {},
   "outputs": [],
   "source": [
    "import numpy as np\n",
    "import pandas as pd"
   ]
  },
  {
   "cell_type": "code",
   "execution_count": 14,
   "metadata": {},
   "outputs": [
    {
     "data": {
      "text/plain": [
       "{'cschcaklvq': array([0, 3, 2, 1, 4, 1, 3, 3, 1, 3, 2, 5, 0, 4, 3, 2, 1, 2, 1, 1]),\n",
       " 'imttaqvxdo': array([5, 3, 2, 5, 1, 2, 4, 2, 2, 2, 3, 2, 3, 3, 2, 4, 3, 2, 3, 1]),\n",
       " 'vyvpiygeru': array([2, 3, 1, 1, 4, 3, 2, 3, 3, 1, 4, 2, 1, 1, 3, 4, 4, 3, 2, 4]),\n",
       " 'ireafrnrsl': array([2, 2, 1, 1, 2, 3, 1, 3, 2, 0, 4, 2, 3, 3, 3, 2, 5, 4, 2, 0]),\n",
       " 'orudxggryu': array([1, 3, 2, 4, 4, 1, 2, 1, 1, 2, 2, 4, 3, 3, 1, 4, 3, 2, 4, 2])}"
      ]
     },
     "execution_count": 14,
     "metadata": {},
     "output_type": "execute_result"
    }
   ],
   "source": [
    "# Setup to create random data. The keys are people and the value is going to be a list of answers that the person gave.\n",
    "NUMBER_OF_PEOPLE = 5\n",
    "# Make a binomial distribution of survey answers. Do not really know if that would make a difference because i think the answer per question\n",
    "# follows a binomial distribution and not the row of answers for one person.\n",
    "people = {\"\".join([chr(np.random.randint(97,122)) for _ in range(10)]): np.random.binomial(n=5,p=0.5,size=20) for _ in range(NUMBER_OF_PEOPLE)}\n",
    "people"
   ]
  },
  {
   "cell_type": "code",
   "execution_count": null,
   "metadata": {},
   "outputs": [
    {
     "name": "stdout",
     "output_type": "stream",
     "text": [
      "[0 3 2 1 4 1 3 3 1 3 2 5 0 4 3 2 1 2 1 1] [5 3 2 5 1 2 4 2 2 2 3 2 3 3 2 4 3 2 3 1]\n",
      "[0 3 2 1 4 1 3 3 1 3 2 5 0 4 3 2 1 2 1 1] [2 3 1 1 4 3 2 3 3 1 4 2 1 1 3 4 4 3 2 4]\n",
      "[0 3 2 1 4 1 3 3 1 3 2 5 0 4 3 2 1 2 1 1] [2 2 1 1 2 3 1 3 2 0 4 2 3 3 3 2 5 4 2 0]\n",
      "[0 3 2 1 4 1 3 3 1 3 2 5 0 4 3 2 1 2 1 1] [1 3 2 4 4 1 2 1 1 2 2 4 3 3 1 4 3 2 4 2]\n",
      "[5 3 2 5 1 2 4 2 2 2 3 2 3 3 2 4 3 2 3 1] [2 3 1 1 4 3 2 3 3 1 4 2 1 1 3 4 4 3 2 4]\n",
      "[5 3 2 5 1 2 4 2 2 2 3 2 3 3 2 4 3 2 3 1] [2 2 1 1 2 3 1 3 2 0 4 2 3 3 3 2 5 4 2 0]\n",
      "[5 3 2 5 1 2 4 2 2 2 3 2 3 3 2 4 3 2 3 1] [1 3 2 4 4 1 2 1 1 2 2 4 3 3 1 4 3 2 4 2]\n",
      "[2 3 1 1 4 3 2 3 3 1 4 2 1 1 3 4 4 3 2 4] [2 2 1 1 2 3 1 3 2 0 4 2 3 3 3 2 5 4 2 0]\n",
      "[2 3 1 1 4 3 2 3 3 1 4 2 1 1 3 4 4 3 2 4] [1 3 2 4 4 1 2 1 1 2 2 4 3 3 1 4 3 2 4 2]\n",
      "[2 2 1 1 2 3 1 3 2 0 4 2 3 3 3 2 5 4 2 0] [1 3 2 4 4 1 2 1 1 2 2 4 3 3 1 4 3 2 4 2]\n"
     ]
    },
    {
     "data": {
      "text/plain": [
       "array([[0.        , 9.38083152, 8.06225775, 8.54400375, 7.        ],\n",
       "       [0.        , 0.        , 8.06225775, 7.68114575, 6.40312424],\n",
       "       [0.        , 0.        , 0.        , 6.164414  , 7.34846923],\n",
       "       [0.        , 0.        , 0.        , 0.        , 7.87400787],\n",
       "       [0.        , 0.        , 0.        , 0.        , 0.        ]])"
      ]
     },
     "execution_count": 16,
     "metadata": {},
     "output_type": "execute_result"
    }
   ],
   "source": [
    "similarity_matrix = np.zeros((NUMBER_OF_PEOPLE, NUMBER_OF_PEOPLE))\n",
    "names = list(people.keys())\n",
    "for i in range(len(names)- 1):\n",
    "    person1 = people[names[i]]\n",
    "    for j in range(i+1, len(names)):\n",
    "        person2 = people[names[j]]\n",
    "        similarity_matrix[i][j] = np.linalg.norm(person1 - person2)\n",
    "\n",
    "# only really computes the upper right triangle because i,j is the same as j,i in terms of distance.\n",
    "similarity_matrix"
   ]
  },
  {
   "cell_type": "code",
   "execution_count": null,
   "metadata": {},
   "outputs": [],
   "source": []
  }
 ],
 "metadata": {
  "kernelspec": {
   "display_name": "Python 3",
   "language": "python",
   "name": "python3"
  },
  "language_info": {
   "codemirror_mode": {
    "name": "ipython",
    "version": 3
   },
   "file_extension": ".py",
   "mimetype": "text/x-python",
   "name": "python",
   "nbconvert_exporter": "python",
   "pygments_lexer": "ipython3",
   "version": "3.11.3"
  }
 },
 "nbformat": 4,
 "nbformat_minor": 2
}
